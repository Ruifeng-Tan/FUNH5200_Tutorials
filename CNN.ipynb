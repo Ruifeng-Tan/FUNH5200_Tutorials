{
 "cells": [
  {
   "cell_type": "markdown",
   "metadata": {},
   "source": [
    "# Implementation of Convolutional Neural Network (CNN)\n",
    "Today, we will teach you how to implement a classic CNN model using Pytorch. The model is composed of the following parts:\n",
    "1. Convolution layers\n",
    "2. ReLU\n",
    "3. Dropout\n",
    "4. Pooling\n",
    "5. Fully connected layers (We have learned it in the week 1)"
   ]
  },
  {
   "cell_type": "markdown",
   "metadata": {},
   "source": [
    "# Step 1. Import the libraries"
   ]
  },
  {
   "cell_type": "code",
   "execution_count": 1,
   "metadata": {},
   "outputs": [],
   "source": [
    "# Import necessary libraries\n",
    "import torch\n",
    "import torch.nn as nn\n",
    "import torch.optim as optim\n",
    "from torchvision import datasets, transforms\n",
    "import matplotlib.pyplot as plt\n",
    "from torch.utils.data import random_split, DataLoader, Dataset\n",
    "import random\n",
    "import pandas as pd\n",
    "import torch.nn.functional as F\n",
    "import time\n",
    "import numpy as np\n",
    "from torch.optim import Adam\n",
    "# fix the random seed\n",
    "def set_seed(seed):\n",
    "    random.seed(seed)\n",
    "    np.random.seed(seed)\n",
    "    torch.manual_seed(seed)\n",
    "    torch.backends.cudnn.benchmark = False\n",
    "    torch.backends.cudnn.deterministic = True\n",
    "    if torch.cuda.is_available() > 0:\n",
    "        torch.cuda.manual_seed_all(seed)\n",
    "\n",
    "\n",
    "set_seed(2023)"
   ]
  },
  {
   "cell_type": "code",
   "execution_count": 2,
   "metadata": {},
   "outputs": [],
   "source": [
    "# Check if a GPU is available\n",
    "device = torch.device(\"cuda\" if torch.cuda.is_available() else \"cpu\")"
   ]
  },
  {
   "cell_type": "markdown",
   "metadata": {},
   "source": [
    "# Step 2. Define the CNN model\n",
    "The model architecture is shown in the figure. It can be seen that after going through the convolution or pooling, the figure size becomes smaller.\n",
    "![CNN](./CNN.jpg)"
   ]
  },
  {
   "cell_type": "code",
   "execution_count": 3,
   "metadata": {},
   "outputs": [],
   "source": [
    "class CNN(nn.Module):\n",
    "    def __init__(self, out_channels, kernel_size=3, drop_out_rate=0.2) -> None:\n",
    "        super(CNN, self).__init__()\n",
    "        self.conv1 = nn.Conv2d(1, out_channels, kernel_size)\n",
    "        self.max_pool1 = nn.MaxPool2d(2)\n",
    "        self.conv2 = nn.Conv2d(out_channels, out_channels, kernel_size)\n",
    "        self.drop_out = nn.Dropout(drop_out_rate)\n",
    "        self.fc = nn.Linear(out_channels,10)\n",
    "\n",
    "    def forward(self, img):\n",
    "        out = self.conv1(img) # Conv\n",
    "        out = F.relu(out)   # activation using ReLU\n",
    "        out = self.drop_out(out) # Dropout\n",
    "        out = self.max_pool1(out) # 2*2 Max-pooling\n",
    "\n",
    "        out = self.conv2(out) # Conv\n",
    "        out = F.relu(out)   # activation using ReLU\n",
    "        out = self.drop_out(out) # Dropout\n",
    "        out = F.max_pool2d(out, kernel_size=out.shape[-1]) # Max-pooling to make the figure only has size 1 \n",
    "        out = out.reshape(out.shape[0], -1)\n",
    "        \n",
    "        out = self.fc(out)\n",
    "        return out"
   ]
  },
  {
   "cell_type": "markdown",
   "metadata": {},
   "source": [
    "Define the hyper-parameters of your model"
   ]
  },
  {
   "cell_type": "code",
   "execution_count": 4,
   "metadata": {},
   "outputs": [],
   "source": [
    "# Define the hyper-parameters\n",
    "out_channels = 32\n",
    "kernel_size = 3\n",
    "drop_out_rate = 0.1\n",
    "batch_size = 512\n",
    "epochs = 10\n",
    "lr = 0.005 # learning rate"
   ]
  },
  {
   "cell_type": "markdown",
   "metadata": {},
   "source": [
    "Build the CNN model"
   ]
  },
  {
   "cell_type": "code",
   "execution_count": 5,
   "metadata": {},
   "outputs": [],
   "source": [
    "model = CNN(out_channels, kernel_size, drop_out_rate).to(device)\n",
    "optimizer = Adam(params=model.parameters(), lr=lr) # Define the optimizer"
   ]
  },
  {
   "cell_type": "markdown",
   "metadata": {},
   "source": [
    "# Step 3. Load or downlaod Dataset\n",
    "We use the dataset that was used in the week 1 tutorial.\n",
    "\n",
    "Here is the link of train.csv file: https://drive.google.com/file/d/16o7yH3keerXyYOONwqM8AU56zFOKt-sL/view?usp=sharing\n",
    "\n",
    "Here is the link of test.csv: https://drive.google.com/file/d/1E6GvUUnlhJShV9v04hdhqiub7ebIRt8o/view?usp=sharing\n",
    "\n",
    "Please download the files and put them to the `./CNN_data/` folder. The `./CNN_data/` folder should be created by yourself. For your convenience, the data files can also be found in the Canvas."
   ]
  },
  {
   "cell_type": "code",
   "execution_count": 6,
   "metadata": {},
   "outputs": [],
   "source": [
    "def to_tensor(data):\n",
    "  # this function is used to change values to tensor format\n",
    "  return [torch.FloatTensor(point) for point in data]\n",
    "\n",
    "class MNISTDataset(Dataset):\n",
    "  def __init__(self, df, X_col, y_col):\n",
    "    # the features is the input of our model\n",
    "    # the target is the output of our model\n",
    "    self.features = df[X_col].values/255\n",
    "    # Because we use CNN in this tutorial, we reshape the features to retain its\n",
    "    # original feature size (28*28). Additionally, since we the figures are just blakc\n",
    "    # and white, it only has one channel. Thus, each figure has size of (1, 28, 28)\n",
    "    self.features = self.features.reshape(-1,1,28,28)\n",
    "    self.targets = df[y_col].values.reshape((-1,1))\n",
    "\n",
    "  def __len__(self):\n",
    "    return len(self.targets)\n",
    "\n",
    "  def __getitem__(self, idx):\n",
    "    return to_tensor([self.features[idx], self.targets[idx]])"
   ]
  },
  {
   "cell_type": "code",
   "execution_count": 7,
   "metadata": {},
   "outputs": [],
   "source": [
    "train_df = pd.read_csv('./CNN_data/train.csv')\n",
    "test_df = pd.read_csv('./CNN_data/test.csv')\n",
    "# Prepare the Dataset\n",
    "y_col = \"label\"\n",
    "X_col = list(train_df.columns[1:])\n",
    "split = int(0.8*len(train_df))\n",
    "valid_df = train_df[split:].reset_index(drop=True)\n",
    "train_df = train_df[:split].reset_index(drop=True)\n",
    "train_set = MNISTDataset(train_df, X_col, y_col)\n",
    "valid_set = MNISTDataset(valid_df, X_col, y_col)\n",
    "\n",
    "# Prepare the Dataloader\n",
    "train_loader = DataLoader(train_set, batch_size=batch_size, shuffle=True)\n",
    "valid_loader = DataLoader(valid_set, batch_size=batch_size, shuffle=True)"
   ]
  },
  {
   "cell_type": "markdown",
   "metadata": {},
   "source": [
    "# Step 4. Train your CNN\n",
    "You will see from the following code that we can conveniently play a new model after we reformat the dataset and redefine the model. The training code stays almost the same as the code of week 1.\n",
    "\n",
    "It should be noted that we have two new lines of code in `line 55` and `line 69`. The key change is the `model.eval()`. According to the [pytorch documentation](https://pytorch.org/tutorials/beginner/saving_loading_models.html?highlight=eval): You must call `model.eval()` to set dropout and batch normalization layers to evaluation mode before running inference. Failing to do this will yield inconsistent inference results. \n",
    "\n",
    "In week 1, we don't have `model.eval()` because we don't have dropout or batch normalization layers in our model. If you have them in your model, you should turn on `model.eval()` when you want to evaluate your model so that:\n",
    "1. The dropout layers will lose effect during the evaluation.\n",
    "2. For normalization, such as Batch Normalization, the model will use the mean and standard variation as well as some parameters learned from the training progress. The normalization will be taught in the future.\n",
    "\n",
    "After the evaluation is done, you should set the model to training mode using `model.train()` if you still want to train it."
   ]
  },
  {
   "cell_type": "code",
   "execution_count": 8,
   "metadata": {},
   "outputs": [],
   "source": [
    "# define binary cross entropy and accuracy\n",
    "# our optimization goal is to reduce the loss function\n",
    "\n",
    "def cross_entropy(y_true, y_pred):\n",
    "  y_true = y_true.long().squeeze()\n",
    "  return nn.CrossEntropyLoss()(y_pred, y_true)\n",
    "\n",
    "def acc(y_true, y_pred):\n",
    "  y_true = y_true.long().squeeze()\n",
    "  y_pred = torch.argmax(y_pred, axis=1)\n",
    "  return (y_true == y_pred).float().sum()/len(y_true)"
   ]
  },
  {
   "cell_type": "code",
   "execution_count": 9,
   "metadata": {},
   "outputs": [
    {
     "name": "stdout",
     "output_type": "stream",
     "text": [
      "starting traing...\n",
      "epoch:1\n",
      "Batch:20, Train Loss:2.0965731143951416, Train Acc:0.341796875, Time:1.944\n",
      "Batch:40, Train Loss:1.4350581169128418, Train Acc:0.5625, Time:2.173\n",
      "Batch:60, Train Loss:0.9977493286132812, Train Acc:0.666015625, Time:2.395\n",
      "Epoch:1, Valid Loss:0.885, Valid Acc:0.745, Time:2.601\n",
      "epoch:2\n",
      "Batch:20, Train Loss:0.7458350658416748, Train Acc:0.783203125, Time:2.831\n",
      "Batch:40, Train Loss:0.614216685295105, Train Acc:0.81640625, Time:3.053\n",
      "Batch:60, Train Loss:0.5582683086395264, Train Acc:0.8203125, Time:3.273\n",
      "Epoch:2, Valid Loss:0.575, Valid Acc:0.831, Time:3.477\n",
      "epoch:3\n",
      "Batch:20, Train Loss:0.5491513013839722, Train Acc:0.841796875, Time:3.789\n",
      "Batch:40, Train Loss:0.5056251287460327, Train Acc:0.86328125, Time:4.012\n",
      "Batch:60, Train Loss:0.545377254486084, Train Acc:0.837890625, Time:4.236\n",
      "Epoch:3, Valid Loss:0.463, Valid Acc:0.864, Time:4.44\n",
      "epoch:4\n",
      "Batch:20, Train Loss:0.4557327926158905, Train Acc:0.853515625, Time:4.666\n",
      "Batch:40, Train Loss:0.3860751986503601, Train Acc:0.8828125, Time:4.896\n",
      "Batch:60, Train Loss:0.4593583643436432, Train Acc:0.86328125, Time:5.121\n",
      "Epoch:4, Valid Loss:0.408, Valid Acc:0.88, Time:5.327\n",
      "epoch:5\n",
      "Batch:20, Train Loss:0.45616644620895386, Train Acc:0.875, Time:5.561\n",
      "Batch:40, Train Loss:0.40054795145988464, Train Acc:0.87109375, Time:5.797\n",
      "Batch:60, Train Loss:0.4302084147930145, Train Acc:0.853515625, Time:6.031\n",
      "Epoch:5, Valid Loss:0.381, Valid Acc:0.889, Time:6.242\n",
      "epoch:6\n",
      "Batch:20, Train Loss:0.35986486077308655, Train Acc:0.890625, Time:6.474\n",
      "Batch:40, Train Loss:0.34896230697631836, Train Acc:0.861328125, Time:6.761\n",
      "Batch:60, Train Loss:0.311310738325119, Train Acc:0.90234375, Time:6.983\n",
      "Epoch:6, Valid Loss:0.346, Valid Acc:0.898, Time:7.186\n",
      "epoch:7\n",
      "Batch:20, Train Loss:0.4398176074028015, Train Acc:0.869140625, Time:7.427\n",
      "Batch:40, Train Loss:0.3368254601955414, Train Acc:0.90234375, Time:7.655\n",
      "Batch:60, Train Loss:0.43130356073379517, Train Acc:0.869140625, Time:7.888\n",
      "Epoch:7, Valid Loss:0.338, Valid Acc:0.894, Time:8.092\n",
      "epoch:8\n",
      "Batch:20, Train Loss:0.269115149974823, Train Acc:0.927734375, Time:8.32\n",
      "Batch:40, Train Loss:0.2961110770702362, Train Acc:0.9140625, Time:8.542\n",
      "Batch:60, Train Loss:0.37046557664871216, Train Acc:0.884765625, Time:8.764\n",
      "Epoch:8, Valid Loss:0.3, Valid Acc:0.91, Time:8.968\n",
      "epoch:9\n",
      "Batch:20, Train Loss:0.31905317306518555, Train Acc:0.892578125, Time:9.201\n",
      "Batch:40, Train Loss:0.3278469741344452, Train Acc:0.890625, Time:9.439\n",
      "Batch:60, Train Loss:0.2862534523010254, Train Acc:0.8984375, Time:9.671\n",
      "Epoch:9, Valid Loss:0.286, Valid Acc:0.914, Time:9.875\n",
      "epoch:10\n",
      "Batch:20, Train Loss:0.3658170700073242, Train Acc:0.8828125, Time:10.114\n",
      "Batch:40, Train Loss:0.28051960468292236, Train Acc:0.908203125, Time:10.338\n",
      "Batch:60, Train Loss:0.2564176619052887, Train Acc:0.9140625, Time:10.566\n",
      "Epoch:10, Valid Loss:0.279, Valid Acc:0.918, Time:10.829\n",
      "finish training.\n"
     ]
    }
   ],
   "source": [
    "# now let's start train the model on GPU\n",
    "start = time.time()\n",
    "print('starting traing...')\n",
    "\n",
    "# those two lists are used to store the loss/acc in different epoches for visualization\n",
    "train_losses, valid_losses = [],[]\n",
    "train_accuracies, valid_accuracies = [],[]\n",
    "\n",
    "for epoch in range(10):\n",
    "  model.train()\n",
    "  print('epoch:{}'.format(epoch+1))\n",
    "  batch_train_losses, batch_train_accuracies = [], []\n",
    "  batch = 0\n",
    "  for train_batch in train_loader:\n",
    "    # here we clear the gradient in optimizer, to start a new batch of training\n",
    "    # everytime we want to update the network by BP, we need to clear the gradient first\n",
    "    optimizer.zero_grad()\n",
    "\n",
    "    train_X, train_y = train_batch\n",
    "    # since we use GPU, we need to deliver variables to our device GPU\n",
    "    train_X = train_X.to(device)\n",
    "    train_y = train_y.to(device)\n",
    "    # the forward here means the forward process\n",
    "    train_preds = model(train_X)\n",
    "    # here we compute the loss function and the acc\n",
    "    train_loss = cross_entropy(train_y, train_preds)\n",
    "    train_acc = acc(train_y, train_preds)\n",
    "\n",
    "    # now we compute the gradient of the newwork by backward()\n",
    "    train_loss.backward()\n",
    "    # here we let our optimizer update parameters, using the learning rate we define\n",
    "    optimizer.step()\n",
    "    end = time.time()\n",
    "    batch = batch+1\n",
    "\n",
    "    time_delta = np.round(end-start,3)\n",
    "    # here we get the item() from tensor, and store it as the batch loss/acc\n",
    "    batch_train_losses.append(np.round(train_loss.item(),3))\n",
    "    batch_train_accuracies.append(np.round(train_acc.item(),3))\n",
    "    # visualize the processing by printing\n",
    "    if batch%20 == 0:\n",
    "      print(\"Batch:{}, Train Loss:{}, Train Acc:{}, Time:{}\".format(batch, train_loss, train_acc, time_delta))\n",
    "\n",
    "  # compute the average loss/acc of those batches\n",
    "  train_losses.append(np.mean(batch_train_losses))\n",
    "  train_accuracies.append(np.mean(batch_train_accuracies))\n",
    "\n",
    "  total_valid_loss = 0\n",
    "  total_valid_points = 0\n",
    "  total_valid_accuracy = 0\n",
    "\n",
    "  # now we evaluate our model on the valid set, since we don't need to train the\n",
    "  # model, we require no_grad() here.\n",
    "  # you can observe the difference between training and evaluation\n",
    "  model.eval() # turn on the evaluation mode to turn off the dropout\n",
    "  with torch.no_grad():\n",
    "    for valid_batch in valid_loader:\n",
    "      valid_X, valid_y = valid_batch\n",
    "      valid_X = valid_X.to(device)\n",
    "      valid_y = valid_y.to(device)\n",
    "      valid_preds = model(valid_X)\n",
    "      valid_loss = cross_entropy(valid_y, valid_preds)\n",
    "      valid_acc = acc(valid_y, valid_preds)\n",
    "\n",
    "      # here we record the points, for computing the average loss/acc later\n",
    "      total_valid_points += 1\n",
    "      total_valid_loss += valid_loss.item()\n",
    "      total_valid_accuracy += valid_acc.item()\n",
    "  model.train() # turn on the training mode\n",
    "  valid_loss = np.round(total_valid_loss/total_valid_points, 3)\n",
    "  valid_acc = np.round(total_valid_accuracy/total_valid_points, 3)\n",
    "\n",
    "  # we record those two into lists for visualization\n",
    "  valid_losses.append(valid_loss)\n",
    "  valid_accuracies.append(valid_acc)\n",
    "\n",
    "  end = time.time()\n",
    "  time_delta = np.round(end-start, 3)\n",
    "  print('Epoch:{}, Valid Loss:{}, Valid Acc:{}, Time:{}'.format(epoch+1, valid_loss, valid_acc, time_delta))\n",
    "\n",
    "print(\"finish training.\")\n",
    "\n"
   ]
  },
  {
   "cell_type": "code",
   "execution_count": 10,
   "metadata": {},
   "outputs": [
    {
     "data": {
      "image/png": "[encoded data removed]",
      "text/plain": [
       "<Figure size 700x400 with 1 Axes>"
      ]
     },
     "metadata": {},
     "output_type": "display_data"
    }
   ],
   "source": [
    "# now we visualize the training process, observe how the loss change over epochs\n",
    "fig = plt.figure(figsize=(7,4))\n",
    "plt.plot(np.arange(1,len(train_losses)+1), train_losses, label='Train')\n",
    "plt.plot(np.arange(1,len(valid_losses)+1), valid_losses, label='Val')\n",
    "plt.legend()\n",
    "plt.ylabel('Cross entropy loss')\n",
    "plt.xlabel('Epoch number')\n",
    "plt.title('Loss versus epoch')\n",
    "plt.grid()\n",
    "plt.savefig('./Loss_versus_epoch.jpg', dpi=600,bbox_inches = 'tight') # Save the figure\n",
    "plt.show()"
   ]
  },
  {
   "cell_type": "markdown",
   "metadata": {},
   "source": [
    "Test the model performance on the testing set. The model performance is determined by evaluating its performance on the testing set. This is also the homework of week 1."
   ]
  },
  {
   "cell_type": "code",
   "execution_count": 11,
   "metadata": {},
   "outputs": [],
   "source": [
    "def acc_np(y_true, y_pred):\n",
    "  y_true = np.array(y_true)\n",
    "  y_true = y_true.squeeze()\n",
    "  y_pred = np.argmax(y_pred, axis=1) # get the predicted class\n",
    "  acc = (y_true == y_pred).sum()/len(y_true) * 100\n",
    "  acc = round(acc,2)\n",
    "  return acc"
   ]
  },
  {
   "cell_type": "code",
   "execution_count": 12,
   "metadata": {},
   "outputs": [
    {
     "name": "stdout",
     "output_type": "stream",
     "text": [
      "10000 10000\n",
      "Accuracy on the testing set is 92.45%\n"
     ]
    }
   ],
   "source": [
    "y_col = \"label\"\n",
    "X_col = list(test_df.columns[1:])\n",
    "test_set = MNISTDataset(test_df, X_col, y_col)\n",
    "# It should be noted that we don't need shuffle in the testing, and the drop_last must be set as False\n",
    "# so that every testing sample will be used.\n",
    "test_loader = DataLoader(test_set, batch_size=batch_size, shuffle=False, drop_last=False)\n",
    "model.eval() # Set the model to evaluation mode\n",
    "total_test_preds = []\n",
    "total_test_truth = []\n",
    "with torch.no_grad():\n",
    "    for test_batch in test_loader:\n",
    "        test_X, test_y = test_batch\n",
    "        test_X = test_X.to(device)\n",
    "        test_y = test_y.to(device)\n",
    "        test_preds = model(test_X)\n",
    "\n",
    "        total_test_preds = total_test_preds + list(test_preds.cpu().numpy())\n",
    "        total_test_truth = total_test_truth + list(test_y.cpu().numpy())\n",
    "# see the length of the preds and truth\n",
    "print(len(total_test_preds), len(total_test_truth))\n",
    "print(f'Accuracy on the testing set is {acc_np(total_test_truth, total_test_preds)}%')\n"
   ]
  },
  {
   "cell_type": "markdown",
   "metadata": {},
   "source": [
    "# Step 5. Assignments\n",
    "Please finish the following assignments and save the output log. Then, you can upload the saved jupyter notebook to canvas."
   ]
  },
  {
   "cell_type": "markdown",
   "metadata": {},
   "source": [
    "## Assignment 1: Play with avg_pool2d and LeakyReLU\n",
    "avg_pool2d: We have [F.avg_pool2d](https://pytorch.org/docs/stable/generated/torch.nn.functional.avg_pool2d.html#torch.nn.functional.avg_pool2d) and [nn.AvgPool2d](https://pytorch.org/docs/stable/generated/torch.nn.AvgPool2d.html#torch.nn.AvgPool2d) in the Pytorch. Please try to replace `nn.MaxPool2d` and `F.max_pool2d` with the them. Then, you should rerun the code and tell me the final accuracy on the testing set. The definition of your model should also be copied to the following code cell.  (3 points)"
   ]
  },
  {
   "cell_type": "code",
   "execution_count": 13,
   "metadata": {},
   "outputs": [],
   "source": [
    "# avg_pool2d\n",
    "# please copy your definition of the model that uses average pooling here, and write its testing accuracy in the comment.\n",
    "# Testing accuracy: ???\n",
    "class CNN(nn.Module):\n",
    "    # Replace the definition with yours\n",
    "    pass"
   ]
  },
  {
   "cell_type": "markdown",
   "metadata": {},
   "source": [
    "LeakyReLU: The [nn.LeakyReLU](https://pytorch.org/docs/stable/generated/torch.nn.LeakyReLU.html#torch.nn.LeakyReLU) and [F.leaky_relu](https://pytorch.org/docs/stable/generated/torch.nn.functional.leaky_relu.html#torch.nn.functional.leaky_relu) can be found in Pytorch. Please replace the ReLU activation with them. Then, you should rerun the code and tell me the final accuracy on the testing set. The definition of your model should also be copied to the following code cell. (3 points)"
   ]
  },
  {
   "cell_type": "code",
   "execution_count": 14,
   "metadata": {},
   "outputs": [],
   "source": [
    "# LeakyReLU\n",
    "# please copy your definition of the model that uses LeakyReLU here, and write its testing accuracy in the comment.\n",
    "# Testing accuracy: ???\n",
    "class CNN(nn.Module):\n",
    "    # Replace the definition with yours\n",
    "    pass"
   ]
  },
  {
   "cell_type": "markdown",
   "metadata": {},
   "source": [
    "## Assignment 1: Build a model that has testing accuracy more than 95% (4 points)\n",
    "Hints: You can adjust the hyper-parameters or improve your model architecture by using different pooling layers and activation functions. There are a lot of activation functions and pooling layers you can find in Pytorch. Don't be scared. CNN is very powerful, and you can easily achieve the goal by adjusting the hyper-parameters.\n",
    "\n",
    "After you have achieved this goal, please copy your hyper-parameters and model definition to the following code cell. In addition, you should submit the `loss versus epoch` figure to the Canvas. The final testing accuracy should be reported in the comment."
   ]
  },
  {
   "cell_type": "code",
   "execution_count": 15,
   "metadata": {},
   "outputs": [],
   "source": [
    "# Build your model.\n",
    "# please copy your definition of the model here, and write its testing accuracy in the comment.\n",
    "# Testing accuracy: ???\n",
    "\n",
    "# Define the hyper-parameters\n",
    "out_channels = 32\n",
    "kernel_size = 3\n",
    "drop_out_rate = 0.1\n",
    "batch_size = 512\n",
    "epochs = 10\n",
    "lr = 0.005 # learning rate\n",
    "\n",
    "class CNN(nn.Module):\n",
    "    # Replace the definition with yours\n",
    "    pass"
   ]
  }
 ],
 "metadata": {
  "kernelspec": {
   "display_name": "Python 3",
   "language": "python",
   "name": "python3"
  },
  "language_info": {
   "codemirror_mode": {
    "name": "ipython",
    "version": 3
   },
   "file_extension": ".py",
   "mimetype": "text/x-python",
   "name": "python",
   "nbconvert_exporter": "python",
   "pygments_lexer": "ipython3",
   "version": "3.10.13"
  },
  "orig_nbformat": 4
 },
 "nbformat": 4,
 "nbformat_minor": 2
}
