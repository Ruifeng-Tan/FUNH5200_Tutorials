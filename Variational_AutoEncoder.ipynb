{
  "cells": [
    {
      "cell_type": "markdown",
      "metadata": {
        "id": "CsjDhmUTZ2iF"
      },
      "source": [
        "# Implementation of Variational AutoEncoder (VAE)\n",
        "\n",
        "     This is based on \"Auto-Encoding Variational Bayes\" (2014, D.P. Kingma et. al.)"
      ]
    },
    {
      "cell_type": "markdown",
      "metadata": {
        "id": "hCto1OFmhypU"
      },
      "source": [
        "### Step 1. Import the required libraries\n",
        "In this section, we import the required libraries for our VAE implementation.\n",
        "\n",
        "**torch** is PyTorch, the deep learning framework used for building and training neural networks.\n",
        "**torch.nn** contains the tools for defining neural network architectures.\n",
        "**torch.optim** is used for optimization algorithms like Adam.\n",
        "**datasets** and **transforms** from **torchvision** are for loading and transforming datasets.\n",
        "**matplotlib.pyplot** is used for plotting images and graphs."
      ]
    },
    {
      "cell_type": "code",
      "execution_count": 42,
      "metadata": {
        "id": "kgdqEr17hikH"
      },
      "outputs": [],
      "source": [
        "# Import necessary libraries\n",
        "import torch\n",
        "import torch.nn as nn\n",
        "import torch.optim as optim\n",
        "from torchvision import datasets, transforms\n",
        "import matplotlib.pyplot as plt\n",
        "from torch.utils.data import random_split, DataLoader"
      ]
    },
    {
      "cell_type": "code",
      "execution_count": 43,
      "metadata": {
        "id": "d2xbe_uAhl5f"
      },
      "outputs": [],
      "source": [
        "# Check if a GPU is available\n",
        "device = torch.device(\"cuda\" if torch.cuda.is_available() else \"cpu\")"
      ]
    },
    {
      "cell_type": "markdown",
      "metadata": {
        "id": "uEi2pyrIikXg"
      },
      "source": [
        "### Step 2. Define our model: Variational AutoEncoder (VAE)\n",
        "This section defines the architecture of the Variational Autoencoder (VAE) using PyTorch's neural network module (**nn.Module**). The VAE consists of two parts: an encoder and a decoder.\n",
        "\n",
        "The encoder takes the input image, flattens it, and passes it through a series of fully connected layers with ReLU activations. The final layer outputs two times the latent_dim values, representing the mean and log-variance of the latent distribution.\n",
        "The decoder takes a sample from the latent space and passes it through a series of fully connected layers with ReLU activations. The final layer produces the output image, which is sigmoid activated to ensure pixel values are between 0 and 1."
      ]
    },
    {
      "cell_type": "code",
      "execution_count": 44,
      "metadata": {
        "id": "JiK1uNvlhozg"
      },
      "outputs": [],
      "source": [
        "# Define the VAE architecture\n",
        "class VAE(nn.Module):\n",
        "    def __init__(self, latent_dim):\n",
        "        super(VAE, self).__init__()\n",
        "        self.latent_dim = latent_dim\n",
        "\n",
        "        # Encoder\n",
        "        self.encoder = nn.Sequential(\n",
        "            nn.Flatten(),\n",
        "            nn.Linear(28 * 28, 256),\n",
        "            nn.ReLU(),\n",
        "            nn.Linear(256, 128),\n",
        "            nn.ReLU(),\n",
        "            nn.Linear(128, 2 * latent_dim)  # Two times latent_dim for mean and log-variance\n",
        "        )\n",
        "\n",
        "        # Decoder\n",
        "        self.decoder = nn.Sequential(\n",
        "            nn.Linear(latent_dim, 128),\n",
        "            nn.ReLU(),\n",
        "            nn.Linear(128, 256),\n",
        "            nn.ReLU(),\n",
        "            nn.Linear(256, 28 * 28),\n",
        "            nn.Sigmoid()\n",
        "        )\n",
        "\n",
        "    def encode(self, x):\n",
        "        h = self.encoder(x)\n",
        "        mu, log_var = torch.chunk(h, 2, dim=-1)  # Split into mean and log-variance\n",
        "        return mu, log_var\n",
        "\n",
        "    def reparameterize(self, mu, log_var):\n",
        "        std = torch.exp(0.5 * log_var)\n",
        "        epsilon = torch.randn_like(std)\n",
        "        return mu + epsilon * std\n",
        "\n",
        "    def decode(self, z):\n",
        "        return self.decoder(z)\n",
        "\n",
        "    def forward(self, x):\n",
        "        mu, log_var = self.encode(x)\n",
        "        z = self.reparameterize(mu, log_var)\n",
        "        reconstruction = self.decode(z)\n",
        "        return reconstruction, mu, log_var"
      ]
    },
    {
      "cell_type": "markdown",
      "metadata": {
        "id": "5onwRNKZiyRX"
      },
      "source": [
        "### Step 3. Define Loss function\n",
        "This section defines the loss function for the VAE. The VAE loss consists of two components:\n",
        "\n",
        "The **reconstruction loss**, calculated as the binary cross-entropy (BCE) between the reconstructed image (reconstruction) and the original input image (x).\n",
        "The **KL divergence regularization** term, which ensures that the learned latent space is close to a standard Gaussian distribution. This term encourages the encoder to learn a meaningful representation in the latent space."
      ]
    },
    {
      "cell_type": "code",
      "execution_count": 45,
      "metadata": {
        "id": "wzZAZ-LLiuHx"
      },
      "outputs": [],
      "source": [
        "# Define the VAE loss function\n",
        "def vae_loss(reconstruction, x, mu, log_var):\n",
        "    # Reconstruction loss (BCE)\n",
        "    reconstruction_loss = nn.functional.binary_cross_entropy(reconstruction, x, reduction='sum')\n",
        "\n",
        "    # KL divergence regularization term\n",
        "    kl_divergence = -0.5 * torch.sum(1 + log_var - mu.pow(2) - log_var.exp())\n",
        "\n",
        "    return reconstruction_loss + kl_divergence"
      ]
    },
    {
      "cell_type": "markdown",
      "metadata": {
        "id": "XTVqyoZ6jOwC"
      },
      "source": [
        "###    Step 4. Load or download Dataset\n",
        "We load and preprocess the MNIST dataset. We use **transforms.ToTensor()** to convert the images to PyTorch tensors and create a data loader to efficiently load and iterate through the dataset in batches."
      ]
    },
    {
      "cell_type": "code",
      "execution_count": 46,
      "metadata": {
        "id": "eczLVPTsjNz6"
      },
      "outputs": [],
      "source": [
        "# Load and preprocess the dataset\n",
        "transform = transforms.Compose([transforms.ToTensor()])\n",
        "dataset = datasets.MNIST(root='./data', train=True, transform=transform, download=True)\n",
        "\n",
        "# Split the dataset into training and validation sets (e.g., 80% training, 20% validation)\n",
        "train_size = int(0.8 * len(dataset))\n",
        "val_size = len(dataset) - train_size\n",
        "train_dataset, val_dataset = random_split(dataset, [train_size, val_size])\n",
        "\n",
        "# Create data loaders for training and validation\n",
        "batch_size = 64\n",
        "train_loader = DataLoader(train_dataset, batch_size=batch_size, shuffle=True)\n",
        "val_loader = DataLoader(val_dataset, batch_size=batch_size)"
      ]
    },
    {
      "cell_type": "markdown",
      "metadata": {
        "id": "D8UytS6qjfU_"
      },
      "source": [
        "### Step 5. Initialize our model and define an optimizer\n",
        "Here, we initialize the VAE model with a specified latent dimension of 20. This model will be used for training and generating samples.\n",
        "\n",
        "We then define an Adam optimizer to update the parameters of the VAE during training. We optimize the parameters of both the encoder and decoder."
      ]
    },
    {
      "cell_type": "code",
      "execution_count": 47,
      "metadata": {
        "id": "7Yi3JC7ajf4K"
      },
      "outputs": [],
      "source": [
        "# Initialize the VAE and move it to the GPU\n",
        "latent_dim = 20\n",
        "vae = VAE(latent_dim).to(device)\n",
        "\n",
        "# Define the optimizer\n",
        "optimizer = optim.Adam(vae.parameters(), lr=0.001)"
      ]
    },
    {
      "cell_type": "markdown",
      "metadata": {
        "id": "rUe38T2sj0aR"
      },
      "source": [
        "### Step 6. Train our VAE\n",
        "This section contains the training loop for the VAE. We iterate over the dataset for a specified number of epochs and update the model's parameters using backpropagation. The loss is calculated using the VAE loss function, and the average loss per data point is printed for each epoch."
      ]
    },
    {
      "cell_type": "code",
      "execution_count": 48,
      "metadata": {
        "colab": {
          "base_uri": "https://localhost:8080/"
        },
        "id": "S7uvY2n6jzuP",
        "outputId": "b08ace7c-b3d9-45dd-b1ee-619380dbb4a4"
      },
      "outputs": [
        {
          "name": "stdout",
          "output_type": "stream",
          "text": [
            "Epoch [1/10] Train Loss: 177.6325 Val Loss: 142.2394\n",
            "Epoch [2/10] Train Loss: 132.0699 Val Loss: 124.1157\n",
            "Epoch [3/10] Train Loss: 120.4631 Val Loss: 117.1334\n",
            "Epoch [4/10] Train Loss: 115.4068 Val Loss: 113.9047\n",
            "Epoch [5/10] Train Loss: 112.4607 Val Loss: 111.5512\n",
            "Epoch [6/10] Train Loss: 110.6649 Val Loss: 110.1186\n",
            "Epoch [7/10] Train Loss: 109.2026 Val Loss: 109.0029\n",
            "Epoch [8/10] Train Loss: 108.1659 Val Loss: 107.9978\n",
            "Epoch [9/10] Train Loss: 107.3222 Val Loss: 107.3267\n",
            "Epoch [10/10] Train Loss: 106.6893 Val Loss: 106.7992\n"
          ]
        }
      ],
      "source": [
        "# Training loop with validation\n",
        "epochs = 10\n",
        "for epoch in range(epochs):\n",
        "    # Training\n",
        "    vae.train()\n",
        "    total_train_loss = 0\n",
        "    for batch_idx, (data, _) in enumerate(train_loader):\n",
        "        data = data.view(-1, 28 * 28).to(device)\n",
        "        optimizer.zero_grad()\n",
        "        reconstruction, mu, log_var = vae(data)\n",
        "        loss = vae_loss(reconstruction, data, mu, log_var)\n",
        "        loss.backward()\n",
        "        optimizer.step()\n",
        "        total_train_loss += loss.item()\n",
        "\n",
        "    # Validation\n",
        "    vae.eval()\n",
        "    total_val_loss = 0\n",
        "    with torch.no_grad():\n",
        "        for batch_idx, (data, _) in enumerate(val_loader):\n",
        "            data = data.view(-1, 28 * 28).to(device)\n",
        "            reconstruction, mu, log_var = vae(data)\n",
        "            loss = vae_loss(reconstruction, data, mu, log_var)\n",
        "            total_val_loss += loss.item()\n",
        "\n",
        "    print(f\"Epoch [{epoch + 1}/{epochs}] Train Loss: {total_train_loss / len(train_dataset):.4f} Val Loss: {total_val_loss / len(val_dataset):.4f}\")"
      ]
    },
    {
      "cell_type": "markdown",
      "metadata": {
        "id": "BdgcPjaGjDE4"
      },
      "source": [
        "### Step 7. Generate images from the trained VAE model\n",
        "Here, we generate 16 random samples from the VAE's latent space. These samples are drawn from a standard Gaussian distribution and then passed through the decoder to generate new images."
      ]
    },
    {
      "cell_type": "code",
      "execution_count": 49,
      "metadata": {
        "colab": {
          "base_uri": "https://localhost:8080/",
          "height": 653
        },
        "id": "uXGBI2z4kFcb",
        "outputId": "c2111964-1016-4c9e-8dee-2d053484d7b4"
      },
      "outputs": [
        {
          "data": {
            "image/png": "[encoded data removed]",
            "text/plain": [
              "<Figure size 800x800 with 16 Axes>"
            ]
          },
          "metadata": {},
          "output_type": "display_data"
        }
      ],
      "source": [
        "# Generate samples from the VAE on CUDA (GPU)\n",
        "with torch.no_grad():\n",
        "    z_samples = torch.randn(16, latent_dim).to(device)  # Generate random samples on the GPU\n",
        "    generated_samples = vae.decode(z_samples).cpu()  # Generate and move samples to CPU for visualization\n",
        "\n",
        "# Visualize generated samples\n",
        "fig, axes = plt.subplots(4, 4, figsize=(8, 8))\n",
        "for i in range(16):\n",
        "    ax = axes[i // 4, i % 4]\n",
        "    ax.imshow(generated_samples[i].view(28, 28).numpy(), cmap='gray')\n",
        "    ax.axis('off')\n",
        "plt.show()"
      ]
    },
    {
      "cell_type": "markdown",
      "metadata": {
        "id": "J26DfJeEkEuA"
      },
      "source": [
        "**1** You may try to play with the model by modifying the model structures (adding or deleting some layers, changing the dimension of the layers) or trying different hyperparameters like learning rate, epochs,...\n",
        "\n",
        "**2** Think about how we can improve the performance"
      ]
    }
  ],
  "metadata": {
    "accelerator": "GPU",
    "colab": {
      "gpuType": "T4",
      "provenance": []
    },
    "kernelspec": {
      "display_name": "Python 3",
      "name": "python3"
    },
    "language_info": {
      "codemirror_mode": {
        "name": "ipython",
        "version": 3
      },
      "file_extension": ".py",
      "mimetype": "text/x-python",
      "name": "python",
      "nbconvert_exporter": "python",
      "pygments_lexer": "ipython3",
      "version": "3.7.9"
    }
  },
  "nbformat": 4,
  "nbformat_minor": 0
}
